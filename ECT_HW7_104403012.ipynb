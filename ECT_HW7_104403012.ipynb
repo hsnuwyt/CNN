{
  "nbformat": 4,
  "nbformat_minor": 0,
  "metadata": {
    "colab": {
      "name": "MNIST_CNN_作業題目.ipynb",
      "version": "0.3.2",
      "views": {},
      "default_view": {},
      "provenance": [
        {
          "file_id": "1T2lfhafT0BioKkDMm1aJOvuR_37LmO2F",
          "timestamp": 1528193650546
        }
      ]
    },
    "kernelspec": {
      "display_name": "Python 3",
      "language": "python",
      "name": "python3"
    }
  },
  "cells": [
    {
      "metadata": {
        "id": "2p30-AdCaZEw",
        "colab_type": "text"
      },
      "cell_type": "markdown",
      "source": [
        "## 載入內建的MNIST dataset\n",
        "\n"
      ]
    },
    {
      "metadata": {
        "id": "tSZErPAE0Z1J",
        "colab_type": "code",
        "colab": {
          "autoexec": {
            "startup": false,
            "wait_interval": 0
          }
        }
      },
      "cell_type": "code",
      "source": [
        "\n"
      ],
      "execution_count": 0,
      "outputs": []
    },
    {
      "metadata": {
        "id": "8BtjscqTaVv4",
        "colab_type": "code",
        "colab": {
          "autoexec": {
            "startup": false,
            "wait_interval": 0
          },
          "base_uri": "https://localhost:8080/",
          "height": 34
        },
        "outputId": "0ba587dd-5437-42ba-cc4c-67c2bed94772",
        "executionInfo": {
          "status": "ok",
          "timestamp": 1529399957209,
          "user_tz": -480,
          "elapsed": 2278,
          "user": {
            "displayName": "吳彥廷",
            "photoUrl": "//lh4.googleusercontent.com/-wFmuUrNDIFw/AAAAAAAAAAI/AAAAAAAAE4s/XLZ6Y6anafs/s50-c-k-no/photo.jpg",
            "userId": "117240533545126945338"
          }
        }
      },
      "cell_type": "code",
      "source": [
        "from keras.datasets import mnist\n",
        "from keras.utils import np_utils\n",
        "import matplotlib.pyplot as plt\n",
        "import numpy as np\n",
        "np.random.seed(10)"
      ],
      "execution_count": 3,
      "outputs": [
        {
          "output_type": "stream",
          "text": [
            "Using TensorFlow backend.\n"
          ],
          "name": "stderr"
        }
      ]
    },
    {
      "metadata": {
        "id": "TfbBuiRlaabJ",
        "colab_type": "text"
      },
      "cell_type": "markdown",
      "source": [
        "## RGB圖片格式為width, height, channels，加上ID數維度為。(ID, width, height, channel)"
      ]
    },
    {
      "metadata": {
        "id": "jjKssxLPaVwc",
        "colab_type": "code",
        "colab": {
          "autoexec": {
            "startup": false,
            "wait_interval": 0
          },
          "base_uri": "https://localhost:8080/",
          "height": 51
        },
        "outputId": "4c8e4ca8-d9a6-4948-d825-a0d63f97ba85",
        "executionInfo": {
          "status": "ok",
          "timestamp": 1529399960153,
          "user_tz": -480,
          "elapsed": 2078,
          "user": {
            "displayName": "吳彥廷",
            "photoUrl": "//lh4.googleusercontent.com/-wFmuUrNDIFw/AAAAAAAAAAI/AAAAAAAAE4s/XLZ6Y6anafs/s50-c-k-no/photo.jpg",
            "userId": "117240533545126945338"
          }
        }
      },
      "cell_type": "code",
      "source": [
        "\n",
        "(X_train,y_train),(X_test,y_test) = mnist.load_data()\n",
        "X_train = X_train.reshape(X_train.shape[0], 28, 28, 1).astype('float32')\n",
        "X_test = X_test.reshape(X_test.shape[0], 28, 28, 1).astype('float32')\n",
        "X_train = X_train / 255\n",
        "X_test = X_test / 255\n",
        "y_train = np_utils.to_categorical(y_train)\n",
        "y_test_categories = y_test\n",
        "y_test = np_utils.to_categorical(y_test)\n"
      ],
      "execution_count": 4,
      "outputs": [
        {
          "output_type": "stream",
          "text": [
            "Downloading data from https://s3.amazonaws.com/img-datasets/mnist.npz\n",
            "11493376/11490434 [==============================] - 1s 0us/step\n"
          ],
          "name": "stdout"
        }
      ]
    },
    {
      "metadata": {
        "id": "1y6IFtaRazQL",
        "colab_type": "text"
      },
      "cell_type": "markdown",
      "source": [
        "# CNN模型的建立"
      ]
    },
    {
      "metadata": {
        "id": "5sOcdgt1a5EL",
        "colab_type": "text"
      },
      "cell_type": "markdown",
      "source": [
        "\n",
        "## 匯入必要的模組(可自行添加需要的模組)"
      ]
    },
    {
      "metadata": {
        "id": "N9CIK2oXbFmE",
        "colab_type": "code",
        "colab": {
          "autoexec": {
            "startup": false,
            "wait_interval": 0
          }
        }
      },
      "cell_type": "code",
      "source": [
        "from keras.models import Sequential\n",
        "from keras.layers import Dense, Dropout, Flatten, Conv2D, MaxPooling2D\n"
      ],
      "execution_count": 0,
      "outputs": []
    },
    {
      "metadata": {
        "id": "sCKx04xbbIRh",
        "colab_type": "text"
      },
      "cell_type": "markdown",
      "source": [
        "## 建立模型(在下方建立自己的模型)\n",
        "## 使用model.add()"
      ]
    },
    {
      "metadata": {
        "id": "8DnWrXFaaVwt",
        "colab_type": "code",
        "colab": {
          "autoexec": {
            "startup": false,
            "wait_interval": 0
          }
        }
      },
      "cell_type": "code",
      "source": [
        "model = Sequential()\n",
        "model.add(Conv2D(filters=20,\n",
        "                 kernel_size=(5,5),\n",
        "                 padding='same',\n",
        "                 input_shape=(28,28,1), \n",
        "                 activation='relu'))\n",
        "model.add(MaxPooling2D(pool_size=(2, 2)))\n",
        "model.add(Conv2D(filters=40,\n",
        "                 kernel_size=(5,5),\n",
        "                 padding='same',\n",
        "                 activation='relu'))\n",
        "model.add(MaxPooling2D(pool_size=(2, 2)))\n",
        "model.add(Dropout(0.5))\n",
        "model.add(Flatten())\n",
        "model.add(Dense(128, activation='relu'))\n",
        "model.add(Dropout(0.5))\n",
        "model.add(Dense(10,activation='softmax'))\n",
        "\n",
        "\n",
        "\n",
        " "
      ],
      "execution_count": 0,
      "outputs": []
    },
    {
      "metadata": {
        "id": "TItK3CslbLw7",
        "colab_type": "text"
      },
      "cell_type": "markdown",
      "source": [
        "## review整個model"
      ]
    },
    {
      "metadata": {
        "id": "qF8voMclbWFY",
        "colab_type": "code",
        "colab": {
          "autoexec": {
            "startup": false,
            "wait_interval": 0
          },
          "base_uri": "https://localhost:8080/",
          "height": 442
        },
        "outputId": "5afa9719-39a9-4e11-a8ab-e132a5310139",
        "executionInfo": {
          "status": "ok",
          "timestamp": 1529399966676,
          "user_tz": -480,
          "elapsed": 653,
          "user": {
            "displayName": "吳彥廷",
            "photoUrl": "//lh4.googleusercontent.com/-wFmuUrNDIFw/AAAAAAAAAAI/AAAAAAAAE4s/XLZ6Y6anafs/s50-c-k-no/photo.jpg",
            "userId": "117240533545126945338"
          }
        }
      },
      "cell_type": "code",
      "source": [
        "model.summary()       "
      ],
      "execution_count": 7,
      "outputs": [
        {
          "output_type": "stream",
          "text": [
            "_________________________________________________________________\n",
            "Layer (type)                 Output Shape              Param #   \n",
            "=================================================================\n",
            "conv2d_1 (Conv2D)            (None, 28, 28, 20)        520       \n",
            "_________________________________________________________________\n",
            "max_pooling2d_1 (MaxPooling2 (None, 14, 14, 20)        0         \n",
            "_________________________________________________________________\n",
            "conv2d_2 (Conv2D)            (None, 14, 14, 40)        20040     \n",
            "_________________________________________________________________\n",
            "max_pooling2d_2 (MaxPooling2 (None, 7, 7, 40)          0         \n",
            "_________________________________________________________________\n",
            "dropout_1 (Dropout)          (None, 7, 7, 40)          0         \n",
            "_________________________________________________________________\n",
            "flatten_1 (Flatten)          (None, 1960)              0         \n",
            "_________________________________________________________________\n",
            "dense_1 (Dense)              (None, 128)               251008    \n",
            "_________________________________________________________________\n",
            "dropout_2 (Dropout)          (None, 128)               0         \n",
            "_________________________________________________________________\n",
            "dense_2 (Dense)              (None, 10)                1290      \n",
            "=================================================================\n",
            "Total params: 272,858\n",
            "Trainable params: 272,858\n",
            "Non-trainable params: 0\n",
            "_________________________________________________________________\n"
          ],
          "name": "stdout"
        }
      ]
    },
    {
      "metadata": {
        "id": "h4ZJuvH3bZgB",
        "colab_type": "text"
      },
      "cell_type": "markdown",
      "source": [
        "## 訓練模型\n",
        "## 評估訓練結果"
      ]
    },
    {
      "metadata": {
        "id": "4fYA4IvtaVw_",
        "colab_type": "code",
        "colab": {
          "autoexec": {
            "startup": false,
            "wait_interval": 0
          },
          "base_uri": "https://localhost:8080/",
          "height": 374
        },
        "outputId": "b9cbf506-2139-4550-9910-5e58089ced61",
        "executionInfo": {
          "status": "ok",
          "timestamp": 1529401043100,
          "user_tz": -480,
          "elapsed": 1072837,
          "user": {
            "displayName": "吳彥廷",
            "photoUrl": "//lh4.googleusercontent.com/-wFmuUrNDIFw/AAAAAAAAAAI/AAAAAAAAE4s/XLZ6Y6anafs/s50-c-k-no/photo.jpg",
            "userId": "117240533545126945338"
          }
        }
      },
      "cell_type": "code",
      "source": [
        "model.compile(loss='categorical_crossentropy', optimizer='adam', metrics=['accuracy'])\n",
        "train_history=model.fit(x=X_train, y=y_train, validation_data=(X_test, y_test), validation_split=0.2, epochs=10, batch_size=300, verbose=2)\n",
        "\n",
        "\n",
        "def show_train_history(train_history, train, validation):\n",
        "    plt.plot(train_history.history[train])\n",
        "    plt.plot(train_history.history[validation])\n",
        "    plt.title('Train History')\n",
        "    plt.ylabel('train')\n",
        "    plt.xlabel('Epoch')\n",
        "    plt.legend(['train', 'validation'], loc='center right')\n",
        "    plt.show()\n",
        "\n"
      ],
      "execution_count": 8,
      "outputs": [
        {
          "output_type": "stream",
          "text": [
            "Train on 60000 samples, validate on 10000 samples\n",
            "Epoch 1/10\n",
            " - 106s - loss: 0.4439 - acc: 0.8599 - val_loss: 0.0778 - val_acc: 0.9748\n",
            "Epoch 2/10\n",
            " - 107s - loss: 0.1294 - acc: 0.9608 - val_loss: 0.0487 - val_acc: 0.9841\n",
            "Epoch 3/10\n",
            " - 107s - loss: 0.0999 - acc: 0.9698 - val_loss: 0.0382 - val_acc: 0.9879\n",
            "Epoch 4/10\n",
            " - 107s - loss: 0.0825 - acc: 0.9754 - val_loss: 0.0318 - val_acc: 0.9886\n",
            "Epoch 5/10\n",
            " - 108s - loss: 0.0716 - acc: 0.9787 - val_loss: 0.0306 - val_acc: 0.9899\n",
            "Epoch 6/10\n",
            " - 107s - loss: 0.0651 - acc: 0.9806 - val_loss: 0.0351 - val_acc: 0.9892\n",
            "Epoch 7/10\n",
            " - 107s - loss: 0.0574 - acc: 0.9824 - val_loss: 0.0249 - val_acc: 0.9921\n",
            "Epoch 8/10\n",
            " - 107s - loss: 0.0554 - acc: 0.9832 - val_loss: 0.0225 - val_acc: 0.9918\n",
            "Epoch 9/10\n",
            " - 107s - loss: 0.0509 - acc: 0.9849 - val_loss: 0.0244 - val_acc: 0.9922\n",
            "Epoch 10/10\n",
            " - 107s - loss: 0.0483 - acc: 0.9850 - val_loss: 0.0225 - val_acc: 0.9926\n"
          ],
          "name": "stdout"
        }
      ]
    },
    {
      "metadata": {
        "id": "jd-TxYgmbg7U",
        "colab_type": "text"
      },
      "cell_type": "markdown",
      "source": [
        "## 顯示準確率\n"
      ]
    },
    {
      "metadata": {
        "id": "fHPq3k7LaVxP",
        "colab_type": "code",
        "colab": {
          "autoexec": {
            "startup": false,
            "wait_interval": 0
          },
          "base_uri": "https://localhost:8080/",
          "height": 376
        },
        "outputId": "6831767d-afbd-42ae-b0a5-99255cacfca9",
        "executionInfo": {
          "status": "ok",
          "timestamp": 1529401043969,
          "user_tz": -480,
          "elapsed": 834,
          "user": {
            "displayName": "吳彥廷",
            "photoUrl": "//lh4.googleusercontent.com/-wFmuUrNDIFw/AAAAAAAAAAI/AAAAAAAAE4s/XLZ6Y6anafs/s50-c-k-no/photo.jpg",
            "userId": "117240533545126945338"
          }
        }
      },
      "cell_type": "code",
      "source": [
        "show_train_history(train_history, 'acc','val_acc')\n"
      ],
      "execution_count": 9,
      "outputs": [
        {
          "output_type": "display_data",
          "data": {
            "image/png": "[encoded data removed]",
            "text/plain": [
              "<matplotlib.figure.Figure at 0x7fc4732d4630>"
            ]
          },
          "metadata": {
            "tags": []
          }
        }
      ]
    },
    {
      "metadata": {
        "id": "25PizJlKbj61",
        "colab_type": "text"
      },
      "cell_type": "markdown",
      "source": [
        "## 顯示誤差率"
      ]
    },
    {
      "metadata": {
        "id": "Q0qfnSRPaVxh",
        "colab_type": "code",
        "colab": {
          "autoexec": {
            "startup": false,
            "wait_interval": 0
          },
          "base_uri": "https://localhost:8080/",
          "height": 376
        },
        "outputId": "b07f4f62-3143-46ef-8d3d-6742a2ac0b62",
        "executionInfo": {
          "status": "ok",
          "timestamp": 1529401044805,
          "user_tz": -480,
          "elapsed": 703,
          "user": {
            "displayName": "吳彥廷",
            "photoUrl": "//lh4.googleusercontent.com/-wFmuUrNDIFw/AAAAAAAAAAI/AAAAAAAAE4s/XLZ6Y6anafs/s50-c-k-no/photo.jpg",
            "userId": "117240533545126945338"
          }
        }
      },
      "cell_type": "code",
      "source": [
        "show_train_history(train_history, 'loss','val_loss')"
      ],
      "execution_count": 10,
      "outputs": [
        {
          "output_type": "display_data",
          "data": {
            "image/png": "[encoded data removed]",
            "text/plain": [
              "<matplotlib.figure.Figure at 0x7fc47431bd68>"
            ]
          },
          "metadata": {
            "tags": []
          }
        }
      ]
    },
    {
      "metadata": {
        "id": "rF_dYlV5bsHK",
        "colab_type": "text"
      },
      "cell_type": "markdown",
      "source": [
        "## 使用test dataset來評估模型的準確率"
      ]
    },
    {
      "metadata": {
        "id": "Y5RnFFr-aVx4",
        "colab_type": "code",
        "colab": {
          "autoexec": {
            "startup": false,
            "wait_interval": 0
          },
          "base_uri": "https://localhost:8080/",
          "height": 51
        },
        "outputId": "e407c3d4-9f71-4b69-cfe4-6dbba8cb67a9",
        "executionInfo": {
          "status": "ok",
          "timestamp": 1529401053723,
          "user_tz": -480,
          "elapsed": 8575,
          "user": {
            "displayName": "吳彥廷",
            "photoUrl": "//lh4.googleusercontent.com/-wFmuUrNDIFw/AAAAAAAAAAI/AAAAAAAAE4s/XLZ6Y6anafs/s50-c-k-no/photo.jpg",
            "userId": "117240533545126945338"
          }
        }
      },
      "cell_type": "code",
      "source": [
        "scores = model.evaluate(X_test, y_test)\n",
        "scores[1]"
      ],
      "execution_count": 11,
      "outputs": [
        {
          "output_type": "stream",
          "text": [
            "10000/10000 [==============================] - 8s 823us/step\n"
          ],
          "name": "stdout"
        },
        {
          "output_type": "execute_result",
          "data": {
            "text/plain": [
              "0.9926"
            ]
          },
          "metadata": {
            "tags": []
          },
          "execution_count": 11
        }
      ]
    },
    {
      "metadata": {
        "id": "_IJ2jSCdbvkU",
        "colab_type": "text"
      },
      "cell_type": "markdown",
      "source": [
        "## 混淆矩陣"
      ]
    },
    {
      "metadata": {
        "id": "UN5OTlqoaVyM",
        "colab_type": "code",
        "colab": {
          "autoexec": {
            "startup": false,
            "wait_interval": 0
          },
          "base_uri": "https://localhost:8080/",
          "height": 407
        },
        "outputId": "5518d2c3-4434-4650-cff2-504e18159863",
        "executionInfo": {
          "status": "ok",
          "timestamp": 1529401061617,
          "user_tz": -480,
          "elapsed": 7859,
          "user": {
            "displayName": "吳彥廷",
            "photoUrl": "//lh4.googleusercontent.com/-wFmuUrNDIFw/AAAAAAAAAAI/AAAAAAAAE4s/XLZ6Y6anafs/s50-c-k-no/photo.jpg",
            "userId": "117240533545126945338"
          }
        }
      },
      "cell_type": "code",
      "source": [
        "import pandas as pd\n",
        "prediction = model.predict_classes(X_test)\n",
        "print(y_test.shape)\n",
        "pd.crosstab(y_test_categories, prediction, rownames=['label'], colnames=['predict'])"
      ],
      "execution_count": 12,
      "outputs": [
        {
          "output_type": "stream",
          "text": [
            "(10000, 10)\n"
          ],
          "name": "stdout"
        },
        {
          "output_type": "execute_result",
          "data": {
            "text/html": [
              "<div>\n",
              "<style scoped>\n",
              "    .dataframe tbody tr th:only-of-type {\n",
              "        vertical-align: middle;\n",
              "    }\n",
              "\n",
              "    .dataframe tbody tr th {\n",
              "        vertical-align: top;\n",
              "    }\n",
              "\n",
              "    .dataframe thead th {\n",
              "        text-align: right;\n",
              "    }\n",
              "</style>\n",
              "<table border=\"1\" class=\"dataframe\">\n",
              "  <thead>\n",
              "    <tr style=\"text-align: right;\">\n",
              "      <th>predict</th>\n",
              "      <th>0</th>\n",
              "      <th>1</th>\n",
              "      <th>2</th>\n",
              "      <th>3</th>\n",
              "      <th>4</th>\n",
              "      <th>5</th>\n",
              "      <th>6</th>\n",
              "      <th>7</th>\n",
              "      <th>8</th>\n",
              "      <th>9</th>\n",
              "    </tr>\n",
              "    <tr>\n",
              "      <th>label</th>\n",
              "      <th></th>\n",
              "      <th></th>\n",
              "      <th></th>\n",
              "      <th></th>\n",
              "      <th></th>\n",
              "      <th></th>\n",
              "      <th></th>\n",
              "      <th></th>\n",
              "      <th></th>\n",
              "      <th></th>\n",
              "    </tr>\n",
              "  </thead>\n",
              "  <tbody>\n",
              "    <tr>\n",
              "      <th>0</th>\n",
              "      <td>976</td>\n",
              "      <td>0</td>\n",
              "      <td>0</td>\n",
              "      <td>0</td>\n",
              "      <td>0</td>\n",
              "      <td>0</td>\n",
              "      <td>2</td>\n",
              "      <td>1</td>\n",
              "      <td>1</td>\n",
              "      <td>0</td>\n",
              "    </tr>\n",
              "    <tr>\n",
              "      <th>1</th>\n",
              "      <td>0</td>\n",
              "      <td>1130</td>\n",
              "      <td>1</td>\n",
              "      <td>1</td>\n",
              "      <td>0</td>\n",
              "      <td>0</td>\n",
              "      <td>1</td>\n",
              "      <td>2</td>\n",
              "      <td>0</td>\n",
              "      <td>0</td>\n",
              "    </tr>\n",
              "    <tr>\n",
              "      <th>2</th>\n",
              "      <td>1</td>\n",
              "      <td>0</td>\n",
              "      <td>1027</td>\n",
              "      <td>0</td>\n",
              "      <td>0</td>\n",
              "      <td>0</td>\n",
              "      <td>0</td>\n",
              "      <td>3</td>\n",
              "      <td>1</td>\n",
              "      <td>0</td>\n",
              "    </tr>\n",
              "    <tr>\n",
              "      <th>3</th>\n",
              "      <td>0</td>\n",
              "      <td>0</td>\n",
              "      <td>0</td>\n",
              "      <td>1006</td>\n",
              "      <td>0</td>\n",
              "      <td>1</td>\n",
              "      <td>0</td>\n",
              "      <td>2</td>\n",
              "      <td>1</td>\n",
              "      <td>0</td>\n",
              "    </tr>\n",
              "    <tr>\n",
              "      <th>4</th>\n",
              "      <td>0</td>\n",
              "      <td>0</td>\n",
              "      <td>0</td>\n",
              "      <td>0</td>\n",
              "      <td>981</td>\n",
              "      <td>0</td>\n",
              "      <td>0</td>\n",
              "      <td>0</td>\n",
              "      <td>0</td>\n",
              "      <td>1</td>\n",
              "    </tr>\n",
              "    <tr>\n",
              "      <th>5</th>\n",
              "      <td>2</td>\n",
              "      <td>0</td>\n",
              "      <td>0</td>\n",
              "      <td>5</td>\n",
              "      <td>0</td>\n",
              "      <td>880</td>\n",
              "      <td>2</td>\n",
              "      <td>0</td>\n",
              "      <td>1</td>\n",
              "      <td>2</td>\n",
              "    </tr>\n",
              "    <tr>\n",
              "      <th>6</th>\n",
              "      <td>1</td>\n",
              "      <td>2</td>\n",
              "      <td>0</td>\n",
              "      <td>0</td>\n",
              "      <td>1</td>\n",
              "      <td>1</td>\n",
              "      <td>953</td>\n",
              "      <td>0</td>\n",
              "      <td>0</td>\n",
              "      <td>0</td>\n",
              "    </tr>\n",
              "    <tr>\n",
              "      <th>7</th>\n",
              "      <td>0</td>\n",
              "      <td>1</td>\n",
              "      <td>3</td>\n",
              "      <td>2</td>\n",
              "      <td>0</td>\n",
              "      <td>0</td>\n",
              "      <td>0</td>\n",
              "      <td>1021</td>\n",
              "      <td>1</td>\n",
              "      <td>0</td>\n",
              "    </tr>\n",
              "    <tr>\n",
              "      <th>8</th>\n",
              "      <td>1</td>\n",
              "      <td>0</td>\n",
              "      <td>1</td>\n",
              "      <td>1</td>\n",
              "      <td>1</td>\n",
              "      <td>1</td>\n",
              "      <td>0</td>\n",
              "      <td>3</td>\n",
              "      <td>965</td>\n",
              "      <td>1</td>\n",
              "    </tr>\n",
              "    <tr>\n",
              "      <th>9</th>\n",
              "      <td>0</td>\n",
              "      <td>2</td>\n",
              "      <td>0</td>\n",
              "      <td>0</td>\n",
              "      <td>10</td>\n",
              "      <td>2</td>\n",
              "      <td>0</td>\n",
              "      <td>6</td>\n",
              "      <td>2</td>\n",
              "      <td>987</td>\n",
              "    </tr>\n",
              "  </tbody>\n",
              "</table>\n",
              "</div>"
            ],
            "text/plain": [
              "predict    0     1     2     3    4    5    6     7    8    9\n",
              "label                                                        \n",
              "0        976     0     0     0    0    0    2     1    1    0\n",
              "1          0  1130     1     1    0    0    1     2    0    0\n",
              "2          1     0  1027     0    0    0    0     3    1    0\n",
              "3          0     0     0  1006    0    1    0     2    1    0\n",
              "4          0     0     0     0  981    0    0     0    0    1\n",
              "5          2     0     0     5    0  880    2     0    1    2\n",
              "6          1     2     0     0    1    1  953     0    0    0\n",
              "7          0     1     3     2    0    0    0  1021    1    0\n",
              "8          1     0     1     1    1    1    0     3  965    1\n",
              "9          0     2     0     0   10    2    0     6    2  987"
            ]
          },
          "metadata": {
            "tags": []
          },
          "execution_count": 12
        }
      ]
    },
    {
      "metadata": {
        "id": "SdUg3qMUaVyn",
        "colab_type": "code",
        "colab": {
          "autoexec": {
            "startup": false,
            "wait_interval": 0
          }
        }
      },
      "cell_type": "code",
      "source": [
        ""
      ],
      "execution_count": 0,
      "outputs": []
    }
  ]
}